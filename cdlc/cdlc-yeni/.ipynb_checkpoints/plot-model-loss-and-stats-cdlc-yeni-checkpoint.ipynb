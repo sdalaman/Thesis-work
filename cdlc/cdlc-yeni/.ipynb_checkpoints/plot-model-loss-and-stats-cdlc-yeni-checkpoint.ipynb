{
 "cells": [
  {
   "cell_type": "code",
   "execution_count": 1,
   "metadata": {
    "collapsed": true,
    "deletable": true,
    "editable": true
   },
   "outputs": [],
   "source": [
    "import torch\n",
    "from torch.autograd import Variable\n",
    "import torch.nn as nn\n",
    "import torch.nn.functional as F"
   ]
  },
  {
   "cell_type": "code",
   "execution_count": 2,
   "metadata": {
    "collapsed": true,
    "deletable": true,
    "editable": true
   },
   "outputs": [],
   "source": [
    "import matplotlib\n",
    "import numpy as np\n",
    "import matplotlib.pyplot as plt\n",
    "%matplotlib inline "
   ]
  },
  {
   "cell_type": "code",
   "execution_count": 4,
   "metadata": {
    "collapsed": false,
    "deletable": true,
    "editable": true
   },
   "outputs": [],
   "source": [
    "import pickle\n",
    "import datetime\n",
    "import numpy as np\n",
    "from cycler import cycler\n",
    "import os.path\n",
    "from numpy import random"
   ]
  },
  {
   "cell_type": "code",
   "execution_count": 39,
   "metadata": {
    "collapsed": true
   },
   "outputs": [],
   "source": [
    "lossVal = lossSet()\n",
    "lossVal = pickle.load( open( fname, \"rb\" ) )"
   ]
  },
  {
   "cell_type": "code",
   "execution_count": 40,
   "metadata": {
    "collapsed": false
   },
   "outputs": [
    {
     "data": {
      "text/plain": [
       "50000"
      ]
     },
     "execution_count": 40,
     "metadata": {},
     "output_type": "execute_result"
    }
   ],
   "source": [
    "len(lossVal.epoch)\n"
   ]
  },
  {
   "cell_type": "code",
   "execution_count": null,
   "metadata": {
    "collapsed": false
   },
   "outputs": [],
   "source": []
  },
  {
   "cell_type": "code",
   "execution_count": 32,
   "metadata": {
    "collapsed": false
   },
   "outputs": [
    {
     "data": {
      "image/png": "[encoded data removed]",
      "text/plain": [
       "<matplotlib.figure.Figure at 0x7feb810ac518>"
      ]
     },
     "metadata": {},
     "output_type": "display_data"
    }
   ],
   "source": [
    "plt.gca().set_prop_cycle=(cycler('color', ['r', 'g', 'b', 'y']))\n",
    "plt.plot(np.array(x), np.array(y))\n",
    "plt.legend(['err','mean'], loc='upper right')\n",
    "plt.title(head)\n",
    "plt.xlabel('epoch')\n",
    "plt.ylabel('loss')\n",
    "plt.show()\n"
   ]
  },
  {
   "cell_type": "code",
   "execution_count": 57,
   "metadata": {
    "collapsed": true,
    "deletable": true,
    "editable": true
   },
   "outputs": [],
   "source": [
    "class lossSet(object):\n",
    "    def __init__(self):\n",
    "        self.epoch = []\n",
    "        self.loss = []\n",
    "        self.mean = []\n",
    "        \n",
    "def meanList(lst):\n",
    "    mn = []\n",
    "    for i in range(len(lst)):\n",
    "        mn.append(np.mean(lst[0:i]))\n",
    "    return mn"
   ]
  },
  {
   "cell_type": "code",
   "execution_count": 58,
   "metadata": {
    "collapsed": false,
    "deletable": true,
    "editable": true
   },
   "outputs": [],
   "source": [
    "def plotLossCdlcNew(fname,head,bg,end,show):\n",
    "    lossVal = lossSet()\n",
    "    print(fname)\n",
    "    if os.path.isfile(fname) == False:\n",
    "        print(\"file not found - %s \" % fname)\n",
    "        return\n",
    "    lossVal = pickle.load( open( fname, \"rb\" ) )\n",
    "    lenVal = len(lossVal.epoch)\n",
    "    mn = min(np.array(lossVal.loss[bg:end-1]))\n",
    "    mx = max(np.array(lossVal.loss[bg:end-1]))\n",
    "    x = lossVal.epoch[bg:end-1]\n",
    "    y = lossVal.loss[bg:end-1]\n",
    "    mean = meanList(lossVal.loss[bg:end-1])\n",
    "    if show == True:\n",
    "        plt.gca().set_prop_cycle=(cycler('color', ['r', 'g', 'b', 'y']))\n",
    "        plt.plot(np.array(x), np.array(y))\n",
    "        plt.plot(np.array(x), np.array(mean))\n",
    "        plt.legend(['err','mean'], loc='upper right')\n",
    "        plt.title(head)\n",
    "        plt.xlabel('epoch')\n",
    "        plt.ylabel('loss')\n",
    "        plt.show()\n",
    "    else:\n",
    "        print(\"%d %d %d\" % (len(lossVal.epoch),len(lossVal.loss),len(lossVal.mean)))\n"
   ]
  },
  {
   "cell_type": "code",
   "execution_count": 60,
   "metadata": {
    "collapsed": false,
    "deletable": true,
    "editable": true
   },
   "outputs": [
    {
     "name": "stdout",
     "output_type": "stream",
     "text": [
      "cdlc-lossValues-fold-0-2017-06-21-18-01-48.bin\n"
     ]
    },
    {
     "name": "stderr",
     "output_type": "stream",
     "text": [
      "/usr/local/lib/python3.5/site-packages/numpy/core/fromnumeric.py:2889: RuntimeWarning: Mean of empty slice.\n",
      "  out=out, **kwargs)\n",
      "/usr/local/lib/python3.5/site-packages/numpy/core/_methods.py:80: RuntimeWarning: invalid value encountered in double_scalars\n",
      "  ret = ret.dtype.type(ret / rcount)\n"
     ]
    },
    {
     "data": {
      "image/png": "[encoded data removed]",
      "text/plain": [
       "<matplotlib.figure.Figure at 0x7feb6b680048>"
      ]
     },
     "metadata": {},
     "output_type": "display_data"
    }
   ],
   "source": [
    "fname = 'cdlc-lossValues-fold0-2017-06-21-17-53-13.bin'\n",
    "fname = 'cdlc-lossValues-fold-0-2017-06-21-18-01-48.bin'\n",
    "head = fname[0:fname.find(\"-2017\")-1]\n",
    "bg=0\n",
    "end=11000\n",
    "step=1\n",
    "plotLossCdlcNew(fname,head,bg,end,True)"
   ]
  },
  {
   "cell_type": "code",
   "execution_count": null,
   "metadata": {
    "collapsed": true
   },
   "outputs": [],
   "source": []
  }
 ],
 "metadata": {
  "kernelspec": {
   "display_name": "IPython (Python 3.5)",
   "language": "python",
   "name": "python3.5"
  },
  "language_info": {
   "codemirror_mode": {
    "name": "ipython",
    "version": 3
   },
   "file_extension": ".py",
   "mimetype": "text/x-python",
   "name": "python",
   "nbconvert_exporter": "python",
   "pygments_lexer": "ipython3",
   "version": "3.5.3"
  }
 },
 "nbformat": 4,
 "nbformat_minor": 2
}
