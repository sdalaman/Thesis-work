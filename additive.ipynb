{
 "cells": [
  {
   "cell_type": "code",
   "execution_count": 1,
   "metadata": {
    "collapsed": true,
    "deletable": true,
    "editable": true
   },
   "outputs": [],
   "source": [
    "import os\n",
    "import math\n",
    "import torch\n",
    "import torch.autograd as autograd\n",
    "import torch.nn as nn\n",
    "import torch.nn.functional as F\n",
    "import torch.optim as optim"
   ]
  },
  {
   "cell_type": "code",
   "execution_count": 2,
   "metadata": {
    "collapsed": false,
    "deletable": true,
    "editable": true
   },
   "outputs": [],
   "source": [
    "class Dictionary(object):\n",
    "    def __init__(self):\n",
    "        self.word2idx = {}\n",
    "        self.idx2word = []\n",
    "\n",
    "    def add_word(self, word):\n",
    "        if word not in self.word2idx:\n",
    "            self.idx2word.append(word)\n",
    "            self.word2idx[word] = len(self.idx2word) - 1\n",
    "        return self.word2idx[word]\n",
    "\n",
    "    def __len__(self):\n",
    "        return len(self.idx2word)\n",
    "\n",
    "\n",
    "class Corpus(object):\n",
    "    def __init__(self, path,fname):\n",
    "        self.sentences = []\n",
    "        self.vocab_idx = 0\n",
    "        self.vocab_map = {'<pad>': 0}\n",
    "        self.dictionary = Dictionary()\n",
    "        self.file = os.path.join(path, fname)\n",
    "        #self.train = self.tokenize(self.file)\n",
    "        #self.valid = self.tokenize(os.path.join(path, 'valid.txt'))\n",
    "        #self.test = self.tokenize(os.path.join(path, 'test.txt'))\n",
    "        self.longest_sent = self.longestSentLength(self.file)\n",
    "        self.data = self.shape_data()\n",
    "        \n",
    "\n",
    "    def longestSentLength(self,file):\n",
    "        assert os.path.exists(file)\n",
    "        # Add words to the dictionary\n",
    "        max_len = 0\n",
    "        with open(file, 'r') as f:\n",
    "            for line in f:\n",
    "                self.sentences.append(line) \n",
    "                words = line.split()\n",
    "                if max_len < len(words):\n",
    "                    max_len = len(words)\n",
    "        return max_len\n",
    "\n",
    "    def padding(self,sentence):\n",
    "        new_sentence = []\n",
    "        for i in range(0 , self.longest_sent):\n",
    "            new_sentence.append('<pad>')\n",
    "        j = 1\n",
    "        for i in range((self.longest_sent - len(sentence) + 1) , self.longest_sent+1):\n",
    "            new_sentence[i-1] = sentence[j-1]\n",
    "            j = j + 1\n",
    "        return new_sentence\n",
    "    \n",
    "    def shape_data(self):\n",
    "        x = torch.zeros(len(self.sentences),self.longest_sent)\n",
    "        for i in range(0,len(self.sentences)):\n",
    "            words = self.sentences[i].split()\n",
    "            words = self.padding(words)\n",
    "            for j in range(0,len(words)):\n",
    "                if self.vocab_map.get(words[j]) == None:\n",
    "                    self.vocab_idx = self.vocab_idx + 1\n",
    "                    self.vocab_map[words[j]] = self.vocab_idx\n",
    "                x[i][j] = self.vocab_map[words[j]]\n",
    "        print(\"Number of words = %d\" % self.vocab_idx)\n",
    "        self.no_of_words = self.vocab_idx\n",
    "        return x.long()\n",
    "        \n",
    "    def tokenize(self, path):\n",
    "        \"\"\"Tokenizes a text file.\"\"\"\n",
    "        assert os.path.exists(path)\n",
    "        # Add words to the dictionary\n",
    "        with open(path, 'r') as f:\n",
    "            tokens = 0\n",
    "            for line in f:\n",
    "                words = line.split() + ['<eos>']\n",
    "                tokens += len(words)\n",
    "                for word in words:\n",
    "                    self.dictionary.add_word(word)\n",
    "\n",
    "        # Tokenize file content\n",
    "        with open(path, 'r') as f:\n",
    "            ids = torch.LongTensor(tokens)\n",
    "            token = 0\n",
    "            for line in f:\n",
    "                words = line.split() + ['<eos>']\n",
    "                for word in words:\n",
    "                    ids[token] = self.dictionary.word2idx[word]\n",
    "                    token += 1\n",
    "\n",
    "        return ids\n",
    "\n",
    "class args(object):\n",
    "    pass\n",
    "    "
   ]
  },
  {
   "cell_type": "code",
   "execution_count": 3,
   "metadata": {
    "collapsed": false,
    "deletable": true,
    "editable": true
   },
   "outputs": [
    {
     "name": "stdout",
     "output_type": "stream",
     "text": [
      "Number of words = 3059\n",
      "Number of words = 5252\n"
     ]
    }
   ],
   "source": [
    "###############################################################################\n",
    "# Load data\n",
    "###############################################################################\n",
    "corpusEng = Corpus('./','english.1000.tok')\n",
    "corpusTr = Corpus('./','turkish.1000.tok')"
   ]
  },
  {
   "cell_type": "code",
   "execution_count": 4,
   "metadata": {
    "collapsed": false,
    "deletable": true,
    "editable": true
   },
   "outputs": [
    {
     "data": {
      "text/plain": [
       "\n",
       "    0     0     0  ...      1     2     3\n",
       "    0     0     0  ...     56    26    42\n",
       "    0     0     0  ...     58    23    59\n",
       "       ...          ⋱          ...       \n",
       "    0     0     0  ...    184    91    42\n",
       "    0     0     0  ...    190    80    42\n",
       "    0     0     0  ...    163    10    42\n",
       "[torch.LongTensor of size 20x105]"
      ]
     },
     "execution_count": 4,
     "metadata": {},
     "output_type": "execute_result"
    }
   ],
   "source": [
    "corpusEng.data[0:20]"
   ]
  },
  {
   "cell_type": "code",
   "execution_count": 5,
   "metadata": {
    "collapsed": true,
    "deletable": true,
    "editable": true
   },
   "outputs": [],
   "source": [
    "vocab_size_pri = corpusEng.vocab_idx\n",
    "vocab_size_sec = corpusTr.vocab_idx\n",
    "embedding_dim = 64\n",
    "batch_size = 1000\n",
    "max_epoch = 1 # 500"
   ]
  },
  {
   "cell_type": "code",
   "execution_count": 6,
   "metadata": {
    "collapsed": false,
    "deletable": true,
    "editable": true
   },
   "outputs": [],
   "source": [
    "class BiLingual(nn.Module):\n",
    "    \n",
    "    def __init__(self, vocab_size_pri,vocab_size_sec ,embedding_dim,batch_size):\n",
    "        super(BiLingual, self).__init__()\n",
    "        self.embeddings_pri = nn.Embedding(vocab_size_pri, embedding_dim)\n",
    "        self.embeddings_sec = nn.Embedding(vocab_size_sec, embedding_dim)\n",
    "        \n",
    "    def cAdd(self,embeds):\n",
    "        btch_len = embeds.size()[0]\n",
    "        sntc_len = embeds.size()[1]\n",
    "        ret = []\n",
    "        for i in range(btch_len):\n",
    "            splt=torch.split(embeds[i],sntc_len,1)\n",
    "            tot = autograd.Variable(torch.zeros(embedding_dim),requires_grad=False)\n",
    "            for j in range(sntc_len):\n",
    "                tot = tot + embeds[i][j]\n",
    "            ret.append(tot)\n",
    "        ret=torch.stack(ret,0)\n",
    "        return ret\n",
    "       \n",
    "    def forwardPri(self, inputs):\n",
    "        embeds_pri = self.embeddings_pri(inputs)\n",
    "        out_pri = self.cAdd(embeds_pri)\n",
    "        return out_pri\n",
    "    \n",
    "    def forwardSec(self, inputs):\n",
    "        embeds_sec = self.embeddings_sec(inputs)\n",
    "        out_sec = self.cAdd(embeds_sec)\n",
    "        return out_sec"
   ]
  },
  {
   "cell_type": "code",
   "execution_count": null,
   "metadata": {
    "collapsed": false,
    "deletable": true,
    "editable": true
   },
   "outputs": [],
   "source": [
    "def testtest():\n",
    "    inds = torch.range(1, number_of_sentences,batch_size).long()\n",
    "    shuffle = torch.randperm(inds.size()[0])\n",
    "    start = inds[shuffle[0]]-1\n",
    "    endd = inds[shuffle[0]]+batch_size-1\n",
    "    inputEng = autograd.Variable(corpusEng.data[start:endd])\n",
    "    inputTr = autograd.Variable(corpusTr.data[start:endd])\n",
    "    \n",
    "    embeddings_pri = nn.Embedding(vocab_size_pri, embedding_dim)\n",
    "    embeddings_sec = nn.Embedding(vocab_size_sec, embedding_dim)\n",
    "    \n",
    "    embeds_pri = embeddings_pri(inputEng)\n",
    "    embeds_sec = embeddings_sec(inputTr)\n",
    "    \n",
    "    btch_len = embeds_pri.size()[0]\n",
    "    sntc_len = embeds_pri.size()[1]\n",
    "    ret = []\n",
    "    for i in range(btch_len):\n",
    "            splt=torch.split(embeds_pri[i],sntc_len,1)\n",
    "            tot = autograd.Variable(torch.zeros(embedding_dim))\n",
    "            for j in range(sntc_len):\n",
    "                tot = tot + embeds_pri[i][j]\n",
    "            ret.append(tot)\n",
    "    ret=torch.stack(ret,0)\n",
    "\n",
    "    "
   ]
  },
  {
   "cell_type": "code",
   "execution_count": 7,
   "metadata": {
    "collapsed": false,
    "deletable": true,
    "editable": true
   },
   "outputs": [
    {
     "data": {
      "text/plain": [
       "(True, 1)"
      ]
     },
     "execution_count": 7,
     "metadata": {},
     "output_type": "execute_result"
    }
   ],
   "source": [
    "# Set the random seed manually for reproducibility.\n",
    "torch.manual_seed(1111)\n",
    "if torch.cuda.is_available():\n",
    "    torch.cuda.manual_seed(1111)\n",
    "torch.cuda.is_available(),torch.cuda.device_count()"
   ]
  },
  {
   "cell_type": "code",
   "execution_count": null,
   "metadata": {
    "collapsed": false,
    "deletable": true,
    "editable": true
   },
   "outputs": [],
   "source": [
    "inputEng"
   ]
  },
  {
   "cell_type": "code",
   "execution_count": null,
   "metadata": {
    "collapsed": false,
    "deletable": true,
    "editable": true
   },
   "outputs": [],
   "source": [
    "embeddings_pri = nn.Embedding(vocab_size_pri, embedding_dim) "
   ]
  },
  {
   "cell_type": "code",
   "execution_count": null,
   "metadata": {
    "collapsed": false,
    "deletable": true,
    "editable": true
   },
   "outputs": [],
   "source": [
    "vocab_size_pri, embedding_dim"
   ]
  },
  {
   "cell_type": "code",
   "execution_count": null,
   "metadata": {
    "collapsed": false,
    "deletable": true,
    "editable": true
   },
   "outputs": [],
   "source": [
    "embeddings_pri"
   ]
  },
  {
   "cell_type": "code",
   "execution_count": null,
   "metadata": {
    "collapsed": false,
    "deletable": true,
    "editable": true
   },
   "outputs": [],
   "source": [
    "embeds_pri = embeddings_pri(inputEng)"
   ]
  },
  {
   "cell_type": "code",
   "execution_count": 8,
   "metadata": {
    "collapsed": false,
    "deletable": true,
    "editable": true
   },
   "outputs": [
    {
     "data": {
      "text/plain": [
       "(1.0, 1000)"
      ]
     },
     "execution_count": 8,
     "metadata": {},
     "output_type": "execute_result"
    }
   ],
   "source": [
    "loss_function = nn.L1Loss()\n",
    "losses = []\n",
    "model = BiLingual(vocab_size_pri+1,vocab_size_sec+1,embedding_dim,batch_size)\n",
    "optimizer = optim.SGD(model.parameters(), lr=0.001)\n",
    "number_of_sentences = math.floor((len(corpusEng.sentences)/batch_size)*batch_size)\n",
    "number_of_sentences/batch_size,number_of_sentences"
   ]
  },
  {
   "cell_type": "code",
   "execution_count": null,
   "metadata": {
    "collapsed": false,
    "deletable": true,
    "editable": true
   },
   "outputs": [
    {
     "name": "stdout",
     "output_type": "stream",
     "text": [
      " start 0 end 1000\n",
      "a\n",
      "b\n",
      "c\n",
      "d\n",
      "e\n",
      "f\n"
     ]
    }
   ],
   "source": [
    "for epoch in range(max_epoch):\n",
    "    total_loss = 0.0\n",
    "    inds = torch.range(1, number_of_sentences,batch_size).long()\n",
    "    shuffle = torch.randperm(inds.size()[0])\n",
    "    for j in range(int(number_of_sentences/batch_size)):\n",
    "    \n",
    "        start = inds[shuffle[j]]-1\n",
    "        endd = inds[shuffle[j]]+batch_size-1\n",
    "        print(' start %d end %d' % (start,endd))\n",
    "        inputEng = autograd.Variable(corpusEng.data[start:endd])\n",
    "        inputTr = autograd.Variable(corpusTr.data[start:endd])\n",
    "        print(\"a\")\n",
    "        model.zero_grad()\n",
    "        print(\"b\")\n",
    "        outputPri = model.forwardPri(inputEng)\n",
    "        print(\"c\")\n",
    "        outputSec = model.forwardSec(inputTr)\n",
    "        print(\"d\")\n",
    "        outputSec2 = autograd.Variable(outputSec.data.float(),requires_grad=False)\n",
    "        outputSec3 = autograd.Variable(torch.Tensor([2.0]))\n",
    "        print(\"e\")\n",
    "        lossPri = loss_function(outputPri,outputSec2)\n",
    "        print(\"f\")\n",
    "        lossPri.backward()\n",
    "        print('step %d ' % (j))\n",
    "        print(lossPri.data)\n",
    "#        outputPri = model.forwardPri(inputEng)\n",
    "#        outputSec = model.forwardSec(inputTr)\n",
    "#        lossSec = loss_function(outputSec,outputPri)\n",
    "#        lossSec.backward()\n",
    "        \n",
    "        #optimizer.step()\n",
    "        total_loss += lossPri.data\n",
    "\n",
    "    losses.append(total_loss)\n",
    "print (losses) # The loss decreased every iteration over the training data!"
   ]
  },
  {
   "cell_type": "code",
   "execution_count": null,
   "metadata": {
    "collapsed": false,
    "deletable": true,
    "editable": true
   },
   "outputs": [],
   "source": [
    "total_loss"
   ]
  },
  {
   "cell_type": "code",
   "execution_count": null,
   "metadata": {
    "collapsed": true,
    "deletable": true,
    "editable": true
   },
   "outputs": [],
   "source": [
    "losses = []"
   ]
  },
  {
   "cell_type": "code",
   "execution_count": 10,
   "metadata": {
    "collapsed": false,
    "deletable": true,
    "editable": true
   },
   "outputs": [
    {
     "data": {
      "text/plain": [
       "Variable containing:\n",
       " 2\n",
       "[torch.FloatTensor of size 1]"
      ]
     },
     "execution_count": 10,
     "metadata": {},
     "output_type": "execute_result"
    }
   ],
   "source": [
    "autograd.Variable(torch.Tensor([2.0]))"
   ]
  },
  {
   "cell_type": "code",
   "execution_count": null,
   "metadata": {
    "collapsed": true
   },
   "outputs": [],
   "source": []
  }
 ],
 "metadata": {
  "kernelspec": {
   "display_name": "IPython (Python 3.5)",
   "language": "python",
   "name": "python3.5"
  },
  "language_info": {
   "codemirror_mode": {
    "name": "ipython",
    "version": 3
   },
   "file_extension": ".py",
   "mimetype": "text/x-python",
   "name": "python",
   "nbconvert_exporter": "python",
   "pygments_lexer": "ipython3",
   "version": "3.5.3"
  }
 },
 "nbformat": 4,
 "nbformat_minor": 2
}
