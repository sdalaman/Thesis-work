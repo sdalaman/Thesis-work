{
 "cells": [
  {
   "cell_type": "code",
   "execution_count": 1,
   "metadata": {
    "collapsed": true,
    "deletable": true,
    "editable": true
   },
   "outputs": [],
   "source": [
    "import torch\n",
    "from torch.autograd import Variable\n",
    "import torch.nn as nn\n",
    "import torch.nn.functional as F"
   ]
  },
  {
   "cell_type": "code",
   "execution_count": 2,
   "metadata": {
    "collapsed": true,
    "deletable": true,
    "editable": true
   },
   "outputs": [],
   "source": [
    "import matplotlib\n",
    "import numpy as np\n",
    "import matplotlib.pyplot as plt\n",
    "%matplotlib inline "
   ]
  },
  {
   "cell_type": "code",
   "execution_count": 3,
   "metadata": {
    "collapsed": false,
    "deletable": true,
    "editable": true
   },
   "outputs": [],
   "source": [
    "import pickle\n",
    "import datetime\n",
    "import numpy as np\n",
    "from cycler import cycler\n",
    "import os.path\n",
    "import modelresults as mres"
   ]
  },
  {
   "cell_type": "code",
   "execution_count": 4,
   "metadata": {
    "collapsed": false,
    "deletable": true,
    "editable": true
   },
   "outputs": [],
   "source": [
    "def plotLossCdlc(fname,head,size,step,show):\n",
    "    lossVal = mres.LossValues()\n",
    "    print(fname)\n",
    "    if os.path.isfile(fname) == False:\n",
    "        print(\"file not found - %s \" % fname)\n",
    "        return\n",
    "    lossVal = pickle.load( open( fname, \"rb\" ) )\n",
    "    lenVal = len(lossVal.x)\n",
    "    lnt=lenVal\n",
    "    if size != 0:\n",
    "        lnt = size\n",
    "    mn = min(np.array(lossVal.y[0:lnt-1]))\n",
    "    mx = max(np.array(lossVal.y[0:lnt-1]))\n",
    "    rr = list(range(0,lnt,step))\n",
    "    x = [ list(lossVal.x)[ix] for ix in rr ]\n",
    "    y = [ lossVal.y[ix] for ix in rr ]\n",
    "    mean = [ lossVal.mean[ix] for ix in rr ]\n",
    "    if show == True:\n",
    "        plt.gca().set_prop_cycle=(cycler('color', ['r', 'g', 'b', 'y']))\n",
    "        plt.plot(np.array(x), np.array(y))\n",
    "        plt.plot(np.array(x), np.array(mean))\n",
    "        plt.legend(['err','mean'], loc='upper right')\n",
    "        plt.title(head)\n",
    "        plt.xlabel('epoch')\n",
    "        plt.ylabel('loss')\n",
    "        plt.show()\n",
    "    else:\n",
    "        print(\"%d %d %d\" % (len(lossVal.x),len(lossVal.y),len(lossVal.mean)))\n"
   ]
  },
  {
   "cell_type": "code",
   "execution_count": 5,
   "metadata": {
    "collapsed": false,
    "deletable": true,
    "editable": true
   },
   "outputs": [
    {
     "name": "stdout",
     "output_type": "stream",
     "text": [
      "cdlc-art-additive-minmax-mlp-simple-loss-values-RMSprop-0.001-0.5-500-10-2.bin\n"
     ]
    },
    {
     "data": {
      "image/png": "[encoded data removed]",
      "text/plain": [
       "<matplotlib.figure.Figure at 0x7fd78da382e8>"
      ]
     },
     "metadata": {},
     "output_type": "display_data"
    }
   ],
   "source": [
    "fname = 'cdlc-art-additive-minmax-mlp-simple-loss-values-RMSprop-0.001-0.5-500-10-2.bin'\n",
    "head = ''\n",
    "plotLossCdlc(fname,head,0,1000,True)"
   ]
  },
  {
   "cell_type": "code",
   "execution_count": null,
   "metadata": {
    "collapsed": true,
    "deletable": true,
    "editable": true
   },
   "outputs": [],
   "source": []
  },
  {
   "cell_type": "code",
   "execution_count": null,
   "metadata": {
    "collapsed": true,
    "deletable": true,
    "editable": true
   },
   "outputs": [],
   "source": []
  },
  {
   "cell_type": "code",
   "execution_count": 6,
   "metadata": {
    "collapsed": true,
    "deletable": true,
    "editable": true
   },
   "outputs": [],
   "source": [
    "class LossValues(object):\n",
    "    def __init__(self):\n",
    "        self.x = []\n",
    "        self.y1 = []\n",
    "        self.y2 = []\n",
    "        self.mean = []\n"
   ]
  },
  {
   "cell_type": "code",
   "execution_count": 7,
   "metadata": {
    "collapsed": true,
    "deletable": true,
    "editable": true
   },
   "outputs": [],
   "source": [
    "def plotLossWord2Vec(fname,head,size,show):\n",
    "    lossVal = LossValues()\n",
    "    print(fname)\n",
    "    if os.path.isfile(fname) == False:\n",
    "        print(\"file not found - %s \" % fname)\n",
    "        return\n",
    "    lossVal = pickle.load( open( fname, \"rb\" ) )\n",
    "    lenVal = len(lossVal.y1)\n",
    "    lnt=lenVal\n",
    "    if size != 0:\n",
    "        lnt = size\n",
    "    mn = min(np.array(lossVal.y1[0:lnt-1]))\n",
    "    mx = max(np.array(lossVal.y1[0:lnt-1]))\n",
    "    if show == True:\n",
    "        plt.gca().set_prop_cycle=(cycler('color', ['r', 'g', 'b', 'y']))\n",
    "        plt.plot(np.array(lossVal.x[0:lnt-1]), np.array(lossVal.y1[0:lnt-1]))\n",
    "        plt.plot(np.array(lossVal.x[0:lnt-1]), np.array(lossVal.y2[0:lnt-1]))\n",
    "        plt.plot(np.array(lossVal.x[0:lnt-1]), np.array(lossVal.mean[0:lnt-1]))\n",
    "        plt.legend(['pri', 'sec', 'mean'], loc='upper right')\n",
    "        plt.title(head)\n",
    "        plt.xlabel('epoch')\n",
    "        plt.ylabel('loss')\n",
    "        plt.show()\n",
    "    else:\n",
    "        print(\"%d %d %d\" % (len(lossVal.x),len(lossVal.y),len(lossVal.mean)))\n"
   ]
  },
  {
   "cell_type": "code",
   "execution_count": 8,
   "metadata": {
    "collapsed": false,
    "deletable": true,
    "editable": true
   },
   "outputs": [
    {
     "name": "stdout",
     "output_type": "stream",
     "text": [
      "../wordvectors/1000/additive-1000-loss-values-0.001-0.2-500-100.bin\n"
     ]
    },
    {
     "data": {
      "image/png": "[encoded data removed]",
      "text/plain": [
       "<matplotlib.figure.Figure at 0x7fd7891fd278>"
      ]
     },
     "metadata": {},
     "output_type": "display_data"
    }
   ],
   "source": [
    "fname = '../wordvectors/1000/additive-1000-loss-values-0.001-0.2-500-100.bin'\n",
    "head = ''\n",
    "plotLossWord2Vec(fname,head,0,True)"
   ]
  },
  {
   "cell_type": "code",
   "execution_count": 9,
   "metadata": {
    "collapsed": false,
    "deletable": true,
    "editable": true
   },
   "outputs": [
    {
     "name": "stdout",
     "output_type": "stream",
     "text": [
      "../wordvectors/all/additive-all-loss-values-0.001-0.2-50-100-50.bin\n",
      "file not found - ../wordvectors/all/additive-all-loss-values-0.001-0.2-50-100-50.bin \n"
     ]
    }
   ],
   "source": [
    "fname = '../wordvectors/all/additive-all-loss-values-0.001-0.2-50-100-50.bin'\n",
    "head = ''\n",
    "plotLossWord2Vec(fname,head,5000,True)"
   ]
  },
  {
   "cell_type": "code",
   "execution_count": null,
   "metadata": {
    "collapsed": true,
    "deletable": true,
    "editable": true
   },
   "outputs": [],
   "source": []
  },
  {
   "cell_type": "code",
   "execution_count": null,
   "metadata": {
    "collapsed": true,
    "deletable": true,
    "editable": true
   },
   "outputs": [],
   "source": [
    "from numpy import random"
   ]
  },
  {
   "cell_type": "code",
   "execution_count": null,
   "metadata": {
    "collapsed": false,
    "deletable": true,
    "editable": true
   },
   "outputs": [],
   "source": [
    "N=500\n",
    "d=300\n",
    "C=5\n",
    "W=random.rand(C,d)\n",
    "wordvectors_list = [random.rand(d,1) for i in range(N)]\n",
    "wordvectors_one_matrix = random.rand(d,N)\n",
    "%timeit [W.dot(wordvectors_list[i]) for i in range(N)]\n",
    "%timeit W.dot(wordvectors_one_matrix)"
   ]
  },
  {
   "cell_type": "code",
   "execution_count": null,
   "metadata": {
    "collapsed": true,
    "deletable": true,
    "editable": true
   },
   "outputs": [],
   "source": [
    "def plotStatsCdlc(fname,head,size,show):\n",
    "    statsVal = {}\n",
    "    statsValTrn = mres.ModelStats()\n",
    "    statsValTst = mres.ModelStats()\n",
    "    print(fname)\n",
    "    if os.path.isfile(fname) == False:\n",
    "        print(\"file not found - %s \" % fname)\n",
    "        return\n",
    "    statsVal = pickle.load( open( fname, \"rb\" ) )\n",
    "    statsValTrn = statsVal[\"train\"]\n",
    "    statsValTst = statsVal[\"test\"]\n",
    "    lnt = len(statsValTrn.epoch)\n",
    "    if size != 0:\n",
    "        lnt = size\n",
    "    if show == True:\n",
    "        plt.gca().set_prop_cycle=(cycler('color', ['r', 'g', 'b', 'y']))\n",
    "        plt.plot(np.array(statsValTrn.epoch[0:lnt-1]), np.array(statsValTrn.accuracy[0:lnt-1]))\n",
    "        plt.plot(np.array(statsValTrn.epoch[0:lnt-1]), np.array(statsValTrn.errorRate[0:lnt-1]))\n",
    "        plt.plot(np.array(statsValTrn.epoch[0:lnt-1]), np.array(statsValTrn.f1Score[0:lnt-1]))\n",
    "        plt.legend(['acc', 'err', 'f1'], loc='upper left')\n",
    "        plt.title(\"train \" + head)\n",
    "        plt.xlabel('epoch')\n",
    "        plt.ylabel('value')\n",
    "        plt.show()\n",
    "        plt.gca().set_prop_cycle=(cycler('color', ['r', 'g', 'b', 'y']))\n",
    "        plt.plot(np.array(statsValTst.epoch[0:lnt-1]), np.array(statsValTst.accuracy[0:lnt-1]))\n",
    "        plt.plot(np.array(statsValTst.epoch[0:lnt-1]), np.array(statsValTst.errorRate[0:lnt-1]))\n",
    "        plt.plot(np.array(statsValTst.epoch[0:lnt-1]), np.array(statsValTst.f1Score[0:lnt-1]))\n",
    "        plt.legend(['acc', 'err', 'f1'], loc='upper left')\n",
    "        plt.title(\"test \" + head)\n",
    "        plt.xlabel('epoch')\n",
    "        plt.ylabel('value')\n",
    "        plt.show()\n"
   ]
  },
  {
   "cell_type": "code",
   "execution_count": null,
   "metadata": {
    "collapsed": false,
    "deletable": true,
    "editable": true
   },
   "outputs": [],
   "source": [
    "fname =\"cdlc-art-additive-add-mlp-simple-stat-values-RMSprop-0.001-0.5-5000-2.bin\"\n",
    "head = \"additive-add\"\n",
    "plotStatsCdlc(fname,head,0,True)\n",
    "\n",
    "fname =\"cdlc-art-additive-add-mlp-simple-stat-values-RMSprop-0.001-0.5-5000-3.bin\"\n",
    "head = \"additive-add\"\n",
    "plotStatsCdlc(fname,head,0,True)\n",
    "\n",
    "fname =\"cdlc-art-additive-tanh-mlp-simple-stat-values-RMSprop-0.001-0.5-5000-2.bin\"\n",
    "head =  \"additive-tanh\"\n",
    "plotStatsCdlc(fname,head,0,True)\n",
    "\n",
    "fname =\"cdlc-art-additive-tanh-mlp-simple-stat-values-RMSprop-0.001-0.5-5000-3.bin\"\n",
    "head =  \"additive-tanh\"\n",
    "plotStatsCdlc(fname,head,0,True)\n",
    "\n",
    "fname =\"cdlc-art-tanh-add-mlp-simple-stat-values-RMSprop-0.001-0.5-5000-2.bin\"\n",
    "head =  \"tanh-add\"\n",
    "plotStatsCdlc(fname,head,0,True)\n",
    "\n",
    "fname =\"cdlc-art-tanh-add-mlp-simple-stat-values-RMSprop-0.001-0.5-5000-3.bin\"\n",
    "head =  \"tanh-add\"\n",
    "plotStatsCdlc(fname,head,0,True)\n",
    "\n",
    "fname =\"cdlc-art-tanh-tanh-mlp-simple-stat-values-RMSprop-0.001-0.5-5000-2.bin\"\n",
    "head = \"tanh-tanh\"\n",
    "plotStatsCdlc(fname,head,0,True)\n",
    "\n",
    "fname =\"cdlc-art-tanh-tanh-mlp-simple-stat-values-RMSprop-0.001-0.5-5000-3.bin\"\n",
    "head = \"tanh-tanh\"\n",
    "plotStatsCdlc(fname,head,0,True)\n",
    "\n",
    "\n"
   ]
  },
  {
   "cell_type": "code",
   "execution_count": null,
   "metadata": {
    "collapsed": false,
    "deletable": true,
    "editable": true
   },
   "outputs": [],
   "source": [
    "fname =\"cdlc-art-additive-minmax-mlp-simple-stat-values-RMSprop-0.001-0.5-5000-2.bin\"\n",
    "head = \"additive-minmax\"\n",
    "plotStatsCdlc(fname,head,0,True)\n",
    "\n",
    "fname =\"cdlc-art-tanh-minmax-mlp-simple-stat-values-RMSprop-0.001-0.5-5000-2.bin\"\n",
    "head = \"tanh-minmax\"\n",
    "plotStatsCdlc(fname,head,0,True)\n",
    "\n",
    "fname =\"cdlc-art-additive-minmax-mlp-simple-stat-values-RMSprop-0.001-0.5-5000-3.bin\"\n",
    "head = \"additive-minmax\"\n",
    "plotStatsCdlc(fname,head,0,True)\n",
    "\n",
    "fname =\"cdlc-art-tanh-minmax-mlp-simple-stat-values-RMSprop-0.001-0.5-5000-3.bin\"\n",
    "head = \"tanh-minmax\"\n",
    "plotStatsCdlc(fname,head,0,True)\n"
   ]
  },
  {
   "cell_type": "code",
   "execution_count": null,
   "metadata": {
    "collapsed": true,
    "deletable": true,
    "editable": true
   },
   "outputs": [],
   "source": [
    "def stats(fname):\n",
    "    def posList(lst,val):\n",
    "        return [i for i in range(len(lst)) if lst[i] == val]\n",
    "    def epoch(inpList1,inpList2):\n",
    "        maxVal = max(inpList2)\n",
    "        return [maxVal,inpList1.epoch[inpList2.index(maxVal)]]\n",
    "    statsVal = pickle.load( open( fname, \"rb\" ) )\n",
    "    statsValTrn = statsVal[\"train\"]\n",
    "    statsValTst = statsVal[\"test\"]\n",
    "    \n",
    "    maxTrn = epoch(statsValTrn,statsValTrn.accuracy)\n",
    "    maxTst = epoch(statsValTst,statsValTst.accuracy)\n",
    "    accList = {\"train max\" : maxTrn[0],\"train mean\" : np.mean(statsValTrn.accuracy),\"train epoch\" : maxTrn[1],\"posList\":posList(statsValTrn.accuracy,maxTrn[0]),\n",
    "               \"test max\" : maxTst[0],\"test mean\" : np.mean(statsValTst.accuracy),\"test epoch\" : maxTst[1],\"posList\" : posList(statsValTst.accuracy,maxTst[0])}\n",
    "\n",
    "    maxTrn = epoch(statsValTrn,statsValTrn.errorRate)\n",
    "    maxTst = epoch(statsValTst,statsValTst.errorRate)\n",
    "    errList = {\"train max\" : maxTrn[0],\"train mean\" : np.mean(statsValTrn.errorRate),\"train epoch\" : maxTrn[1],\"posList\":posList(statsValTrn.accuracy,maxTrn[0]),\n",
    "               \"test max\" : maxTst[0],\"test mean\" : np.mean(statsValTrn.errorRate),\"test epoch\" : maxTst[1],\"posList\" : posList(statsValTst.accuracy,maxTst[0])}\n",
    "\n",
    "    maxTrn = epoch(statsValTrn,statsValTrn.f1Score)\n",
    "    maxTst = epoch(statsValTst,statsValTst.f1Score)\n",
    "    f1List = {\"train max\" : maxTrn[0],\"train mean\" : np.mean(statsValTrn.f1Score),\"train epoch\" : maxTrn[1],\"posList\":posList(statsValTrn.accuracy,maxTrn[0]),\n",
    "               \"test max\" : maxTst[0],\"test mean\" : np.mean(statsValTrn.f1Score),\"test epoch\" : maxTst[1],\"posList\" : posList(statsValTst.accuracy,maxTst[0])}\n",
    "\n",
    "    return {\"Accuracy\":accList,\"Error Rate\":errList,\"F1 Score\": f1List}\n"
   ]
  },
  {
   "cell_type": "code",
   "execution_count": null,
   "metadata": {
    "collapsed": false,
    "deletable": true,
    "editable": true
   },
   "outputs": [],
   "source": [
    "fname =\"cdlc-art-additive-minmax-mlp-simple-stat-values-RMSprop-0.001-0.5-5000-2.bin\"\n",
    "additive_minmax_2 = stats(fname)\n",
    "\n",
    "fname =\"cdlc-art-additive-minmax-mlp-simple-stat-values-RMSprop-0.001-0.5-5000-3.bin\"\n",
    "additive_minmax_3 = stats(fname)\n",
    "\n",
    "fname =\"cdlc-art-tanh-minmax-mlp-simple-stat-values-RMSprop-0.001-0.5-5000-2.bin\"\n",
    "tanh_minmax_2 = stats(fname)\n",
    "\n",
    "fname =\"cdlc-art-tanh-minmax-mlp-simple-stat-values-RMSprop-0.001-0.5-5000-3.bin\"\n",
    "tanh_minmax_3 = stats(fname)\n"
   ]
  },
  {
   "cell_type": "code",
   "execution_count": null,
   "metadata": {
    "collapsed": false,
    "deletable": true,
    "editable": true
   },
   "outputs": [],
   "source": [
    "print(\"Cdlc Art Additive-Minmax (2 Hidden)\")\n",
    "print(\"            train            test\")\n",
    "print(\"            mean  - max      mean -  max\")\n",
    "print(\"accuracy    %.3f - %.3f     %.3f - %.3f\" % (additive_minmax_2[\"Accuracy\"][\"train mean\"],additive_minmax_2[\"Accuracy\"][\"train max\"],additive_minmax_2[\"Accuracy\"][\"test mean\"],additive_minmax_2[\"Accuracy\"][\"test max\"]))\n",
    "print(\"error rate  %.3f - %.3f     %.3f - %.3f\" % (additive_minmax_2[\"Error Rate\"][\"train mean\"],additive_minmax_2[\"Error Rate\"][\"train max\"],additive_minmax_2[\"Error Rate\"][\"test mean\"],additive_minmax_2[\"Error Rate\"][\"test max\"]))\n",
    "print(\"f1 score    %.3f - %.3f     %.3f - %.3f\" % (additive_minmax_2[\"F1 Score\"][\"train mean\"],additive_minmax_2[\"F1 Score\"][\"train max\"],additive_minmax_2[\"F1 Score\"][\"test mean\"],additive_minmax_2[\"F1 Score\"][\"test max\"]))\n",
    "print(\"\\n\")\n",
    "print(\"Cdlc Art Additive-Minmax (3 Hidden)\")\n",
    "print(\"            mean  - max      mean -  max\")\n",
    "print(\"accuracy    %.3f - %.3f     %.3f - %.3f\" % (additive_minmax_3[\"Accuracy\"][\"train mean\"],additive_minmax_3[\"Accuracy\"][\"train max\"],additive_minmax_3[\"Accuracy\"][\"test mean\"],additive_minmax_3[\"Accuracy\"][\"test max\"]))\n",
    "print(\"error rate  %.3f - %.3f     %.3f - %.3f\" % (additive_minmax_3[\"Error Rate\"][\"train mean\"],additive_minmax_3[\"Error Rate\"][\"train max\"],additive_minmax_3[\"Error Rate\"][\"test mean\"],additive_minmax_3[\"Error Rate\"][\"test max\"]))\n",
    "print(\"f1 score    %.3f - %.3f     %.3f - %.3f\" % (additive_minmax_3[\"F1 Score\"][\"train mean\"],additive_minmax_3[\"F1 Score\"][\"train max\"],additive_minmax_3[\"F1 Score\"][\"test mean\"],additive_minmax_3[\"F1 Score\"][\"test max\"]))\n",
    "print(\"\\n\\n\")\n",
    "print(\"Cdlc Art Tanh-Minmax (2 Hidden)\")\n",
    "print(\"            mean  - max      mean -  max\")\n",
    "print(\"accuracy    %.3f - %.3f     %.3f - %.3f\" % (tanh_minmax_2[\"Accuracy\"][\"train mean\"],tanh_minmax_2[\"Accuracy\"][\"train max\"],tanh_minmax_2[\"Accuracy\"][\"test mean\"],tanh_minmax_2[\"Accuracy\"][\"test max\"]))\n",
    "print(\"error rate  %.3f - %.3f     %.3f - %.3f\" % (tanh_minmax_2[\"Error Rate\"][\"train mean\"],tanh_minmax_2[\"Error Rate\"][\"train max\"],tanh_minmax_2[\"Error Rate\"][\"test mean\"],tanh_minmax_2[\"Error Rate\"][\"test max\"]))\n",
    "print(\"f1 score    %.3f - %.3f     %.3f - %.3f\" % (tanh_minmax_2[\"F1 Score\"][\"train mean\"],tanh_minmax_2[\"F1 Score\"][\"train max\"],tanh_minmax_2[\"F1 Score\"][\"test mean\"],tanh_minmax_2[\"F1 Score\"][\"test max\"]))\n",
    "print(\"\\n\")\n",
    "print(\"Cdlc Art Tanh-Minmax (3 Hidden)\")\n",
    "print(\"            mean  - max      mean -  max\")\n",
    "print(\"accuracy    %.3f - %.3f     %.3f - %.3f\" % (tanh_minmax_3[\"Accuracy\"][\"train mean\"],tanh_minmax_3[\"Accuracy\"][\"train max\"],tanh_minmax_3[\"Accuracy\"][\"test mean\"],tanh_minmax_3[\"Accuracy\"][\"test max\"]))\n",
    "print(\"error rate  %.3f - %.3f     %.3f - %.3f\" % (tanh_minmax_3[\"Error Rate\"][\"train mean\"],tanh_minmax_3[\"Error Rate\"][\"train max\"],tanh_minmax_3[\"Error Rate\"][\"test mean\"],tanh_minmax_3[\"Error Rate\"][\"test max\"]))\n",
    "print(\"f1 score    %.3f - %.3f     %.3f - %.3f\" % (tanh_minmax_3[\"F1 Score\"][\"train mean\"],tanh_minmax_3[\"F1 Score\"][\"train max\"],tanh_minmax_3[\"F1 Score\"][\"test mean\"],tanh_minmax_3[\"F1 Score\"][\"test max\"]))\n",
    "\n",
    "\n",
    "\n",
    "\n"
   ]
  },
  {
   "cell_type": "code",
   "execution_count": 16,
   "metadata": {
    "collapsed": false,
    "deletable": true,
    "editable": true
   },
   "outputs": [],
   "source": [
    "def strFoldStats(fname):\n",
    "    statsVal = pickle.load( open(fname, \"rb\" ) )\n",
    "    fold = len(statsVal['train'].fold)\n",
    "    vals = statsVal['train']\n",
    "    strTrain = []\n",
    "    strTrain.append(\"Train precision:%.3f recall:%.3f f1-score:%.3f \" % \\\n",
    "      (sum(vals.precision)/fold,sum(vals.recall)/fold,sum(vals.f1Score)/fold))\n",
    "    strTrain.append(\"Train score:%.3f accuracy:%.3f error-rate:%.3f \" % \\\n",
    "        (sum(vals.score)/fold,sum(vals.accuracy)/fold,sum(vals.errorRate)/fold))\n",
    "    fold = len(statsVal['test'].fold)\n",
    "    vals = statsVal['test']\n",
    "    strTest = []\n",
    "    strTest.append(\"Test precision:%.3f recall:%.3f f1-score:%.3f \" % \\\n",
    "      (sum(vals.precision)/fold,sum(vals.recall)/fold,sum(vals.f1Score)/fold))\n",
    "    strTest.append(\"Test score:%.3f accuracy:%.3f error-rate:%.3f \" % \\\n",
    "        (sum(vals.score)/fold,sum(vals.accuracy)/fold,sum(vals.errorRate)/fold))\n",
    "    return strTrain,strTest"
   ]
  },
  {
   "cell_type": "code",
   "execution_count": 17,
   "metadata": {
    "collapsed": false,
    "deletable": true,
    "editable": true
   },
   "outputs": [
    {
     "name": "stdout",
     "output_type": "stream",
     "text": [
      "['Train precision:0.793 recall:0.698 f1-score:0.685 ', 'Train score:0.722 accuracy:0.722 error-rate:0.277 ']\n",
      "['Test precision:0.545 recall:0.685 f1-score:0.603 ', 'Test score:0.540 accuracy:0.540 error-rate:0.460 ']\n"
     ]
    }
   ],
   "source": [
    "print(\"%s\\n%s\" % (strFoldStats(\"cdlc-art-additive-minmax-mlp-simple-stat-values-RMSprop-0.001-0.5-500-10-2.bin\")))"
   ]
  },
  {
   "cell_type": "code",
   "execution_count": 18,
   "metadata": {
    "collapsed": false,
    "deletable": true,
    "editable": true
   },
   "outputs": [
    {
     "name": "stdout",
     "output_type": "stream",
     "text": [
      "['Train precision:0.795 recall:0.830 f1-score:0.763 ', 'Train score:0.772 accuracy:0.772 error-rate:0.228 ']\n",
      "['Test precision:0.506 recall:0.852 f1-score:0.631 ', 'Test score:0.494 accuracy:0.494 error-rate:0.506 ']\n"
     ]
    }
   ],
   "source": [
    "print(\"%s\\n%s\" % (strFoldStats(\"cdlc-art-tanh-minmax-mlp-simple-stat-values-RMSprop-0.001-0.5-500-10-2.bin\")))"
   ]
  },
  {
   "cell_type": "code",
   "execution_count": 61,
   "metadata": {
    "collapsed": false,
    "deletable": true,
    "editable": true
   },
   "outputs": [
    {
     "name": "stdout",
     "output_type": "stream",
     "text": [
      "[50, 51, 52, 53, 54, 55, 56, 57, 58, 59, 60, 61, 62, 63, 64, 65, 66, 67, 68, 69, 70, 71, 72, 73, 74, 75, 76, 77, 78, 79, 80, 81, 82, 83, 84, 85, 86, 87, 88, 89, 90, 91, 92, 93, 94, 95, 96, 97, 98, 99]\n"
     ]
    }
   ],
   "source": [
    "print(list(range(50,100)))"
   ]
  },
  {
   "cell_type": "code",
   "execution_count": null,
   "metadata": {
    "collapsed": true,
    "deletable": true,
    "editable": true
   },
   "outputs": [],
   "source": []
  }
 ],
 "metadata": {
  "kernelspec": {
   "display_name": "IPython (Python 3.5)",
   "language": "python",
   "name": "python3.5"
  },
  "language_info": {
   "codemirror_mode": {
    "name": "ipython",
    "version": 3
   },
   "file_extension": ".py",
   "mimetype": "text/x-python",
   "name": "python",
   "nbconvert_exporter": "python",
   "pygments_lexer": "ipython3",
   "version": "3.5.3"
  }
 },
 "nbformat": 4,
 "nbformat_minor": 2
}
